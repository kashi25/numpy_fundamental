{
 "cells": [
  {
   "cell_type": "markdown",
   "metadata": {},
   "source": [
    "# pandas DataFrames"
   ]
  },
  {
   "cell_type": "markdown",
   "metadata": {},
   "source": [
    "# dataFrame is the 2 d data structure that data is tabulated in two fashon row and column\n",
    "#  data Frame compose 3 principals i.e data , rows and column"
   ]
  },
  {
   "cell_type": "code",
   "execution_count": 34,
   "metadata": {},
   "outputs": [],
   "source": [
    "import numpy as np\n",
    "import pandas as pd\n",
    "from numpy.random import rand\n",
    "np.random.seed(101)"
   ]
  },
  {
   "cell_type": "code",
   "execution_count": 37,
   "metadata": {},
   "outputs": [],
   "source": [
    "\n",
    "df = pd.DataFrame(data= rand(5,4), index=['a','b','c','d','e'],columns=['w','x','y','Z'])"
   ]
  },
  {
   "cell_type": "code",
   "execution_count": 38,
   "metadata": {},
   "outputs": [
    {
     "data": {
      "text/html": [
       "<div>\n",
       "<style scoped>\n",
       "    .dataframe tbody tr th:only-of-type {\n",
       "        vertical-align: middle;\n",
       "    }\n",
       "\n",
       "    .dataframe tbody tr th {\n",
       "        vertical-align: top;\n",
       "    }\n",
       "\n",
       "    .dataframe thead th {\n",
       "        text-align: right;\n",
       "    }\n",
       "</style>\n",
       "<table border=\"1\" class=\"dataframe\">\n",
       "  <thead>\n",
       "    <tr style=\"text-align: right;\">\n",
       "      <th></th>\n",
       "      <th>w</th>\n",
       "      <th>x</th>\n",
       "      <th>y</th>\n",
       "      <th>Z</th>\n",
       "    </tr>\n",
       "  </thead>\n",
       "  <tbody>\n",
       "    <tr>\n",
       "      <th>a</th>\n",
       "      <td>0.097146</td>\n",
       "      <td>0.102847</td>\n",
       "      <td>0.701507</td>\n",
       "      <td>0.890480</td>\n",
       "    </tr>\n",
       "    <tr>\n",
       "      <th>b</th>\n",
       "      <td>0.159560</td>\n",
       "      <td>0.275573</td>\n",
       "      <td>0.672492</td>\n",
       "      <td>0.164303</td>\n",
       "    </tr>\n",
       "    <tr>\n",
       "      <th>c</th>\n",
       "      <td>0.701371</td>\n",
       "      <td>0.487635</td>\n",
       "      <td>0.680678</td>\n",
       "      <td>0.521548</td>\n",
       "    </tr>\n",
       "    <tr>\n",
       "      <th>d</th>\n",
       "      <td>0.043397</td>\n",
       "      <td>0.223937</td>\n",
       "      <td>0.575205</td>\n",
       "      <td>0.120434</td>\n",
       "    </tr>\n",
       "    <tr>\n",
       "      <th>e</th>\n",
       "      <td>0.500117</td>\n",
       "      <td>0.138010</td>\n",
       "      <td>0.052808</td>\n",
       "      <td>0.178277</td>\n",
       "    </tr>\n",
       "  </tbody>\n",
       "</table>\n",
       "</div>"
      ],
      "text/plain": [
       "          w         x         y         Z\n",
       "a  0.097146  0.102847  0.701507  0.890480\n",
       "b  0.159560  0.275573  0.672492  0.164303\n",
       "c  0.701371  0.487635  0.680678  0.521548\n",
       "d  0.043397  0.223937  0.575205  0.120434\n",
       "e  0.500117  0.138010  0.052808  0.178277"
      ]
     },
     "execution_count": 38,
     "metadata": {},
     "output_type": "execute_result"
    }
   ],
   "source": [
    "df"
   ]
  },
  {
   "cell_type": "code",
   "execution_count": 39,
   "metadata": {},
   "outputs": [
    {
     "data": {
      "text/plain": [
       "a    0.097146\n",
       "b    0.159560\n",
       "c    0.701371\n",
       "d    0.043397\n",
       "e    0.500117\n",
       "Name: w, dtype: float64"
      ]
     },
     "execution_count": 39,
     "metadata": {},
     "output_type": "execute_result"
    }
   ],
   "source": [
    "# indexing ans selection\n",
    "# selecting one column\n",
    "df['w']"
   ]
  },
  {
   "cell_type": "code",
   "execution_count": 40,
   "metadata": {},
   "outputs": [
    {
     "data": {
      "text/plain": [
       "pandas.core.series.Series"
      ]
     },
     "execution_count": 40,
     "metadata": {},
     "output_type": "execute_result"
    }
   ],
   "source": [
    "type(df['w'])"
   ]
  },
  {
   "cell_type": "code",
   "execution_count": 41,
   "metadata": {},
   "outputs": [
    {
     "data": {
      "text/plain": [
       "pandas.core.frame.DataFrame"
      ]
     },
     "execution_count": 41,
     "metadata": {},
     "output_type": "execute_result"
    }
   ],
   "source": [
    "type(df)"
   ]
  },
  {
   "cell_type": "code",
   "execution_count": 42,
   "metadata": {},
   "outputs": [
    {
     "data": {
      "text/html": [
       "<div>\n",
       "<style scoped>\n",
       "    .dataframe tbody tr th:only-of-type {\n",
       "        vertical-align: middle;\n",
       "    }\n",
       "\n",
       "    .dataframe tbody tr th {\n",
       "        vertical-align: top;\n",
       "    }\n",
       "\n",
       "    .dataframe thead th {\n",
       "        text-align: right;\n",
       "    }\n",
       "</style>\n",
       "<table border=\"1\" class=\"dataframe\">\n",
       "  <thead>\n",
       "    <tr style=\"text-align: right;\">\n",
       "      <th></th>\n",
       "      <th>w</th>\n",
       "      <th>x</th>\n",
       "      <th>y</th>\n",
       "      <th>Z</th>\n",
       "    </tr>\n",
       "  </thead>\n",
       "  <tbody>\n",
       "    <tr>\n",
       "      <th>a</th>\n",
       "      <td>0.097146</td>\n",
       "      <td>0.102847</td>\n",
       "      <td>0.701507</td>\n",
       "      <td>0.890480</td>\n",
       "    </tr>\n",
       "    <tr>\n",
       "      <th>b</th>\n",
       "      <td>0.159560</td>\n",
       "      <td>0.275573</td>\n",
       "      <td>0.672492</td>\n",
       "      <td>0.164303</td>\n",
       "    </tr>\n",
       "    <tr>\n",
       "      <th>c</th>\n",
       "      <td>0.701371</td>\n",
       "      <td>0.487635</td>\n",
       "      <td>0.680678</td>\n",
       "      <td>0.521548</td>\n",
       "    </tr>\n",
       "    <tr>\n",
       "      <th>d</th>\n",
       "      <td>0.043397</td>\n",
       "      <td>0.223937</td>\n",
       "      <td>0.575205</td>\n",
       "      <td>0.120434</td>\n",
       "    </tr>\n",
       "    <tr>\n",
       "      <th>e</th>\n",
       "      <td>0.500117</td>\n",
       "      <td>0.138010</td>\n",
       "      <td>0.052808</td>\n",
       "      <td>0.178277</td>\n",
       "    </tr>\n",
       "  </tbody>\n",
       "</table>\n",
       "</div>"
      ],
      "text/plain": [
       "          w         x         y         Z\n",
       "a  0.097146  0.102847  0.701507  0.890480\n",
       "b  0.159560  0.275573  0.672492  0.164303\n",
       "c  0.701371  0.487635  0.680678  0.521548\n",
       "d  0.043397  0.223937  0.575205  0.120434\n",
       "e  0.500117  0.138010  0.052808  0.178277"
      ]
     },
     "execution_count": 42,
     "metadata": {},
     "output_type": "execute_result"
    }
   ],
   "source": [
    "df"
   ]
  },
  {
   "cell_type": "code",
   "execution_count": 43,
   "metadata": {},
   "outputs": [
    {
     "data": {
      "text/html": [
       "<div>\n",
       "<style scoped>\n",
       "    .dataframe tbody tr th:only-of-type {\n",
       "        vertical-align: middle;\n",
       "    }\n",
       "\n",
       "    .dataframe tbody tr th {\n",
       "        vertical-align: top;\n",
       "    }\n",
       "\n",
       "    .dataframe thead th {\n",
       "        text-align: right;\n",
       "    }\n",
       "</style>\n",
       "<table border=\"1\" class=\"dataframe\">\n",
       "  <thead>\n",
       "    <tr style=\"text-align: right;\">\n",
       "      <th></th>\n",
       "      <th>x</th>\n",
       "      <th>y</th>\n",
       "    </tr>\n",
       "  </thead>\n",
       "  <tbody>\n",
       "    <tr>\n",
       "      <th>a</th>\n",
       "      <td>0.102847</td>\n",
       "      <td>0.701507</td>\n",
       "    </tr>\n",
       "    <tr>\n",
       "      <th>b</th>\n",
       "      <td>0.275573</td>\n",
       "      <td>0.672492</td>\n",
       "    </tr>\n",
       "    <tr>\n",
       "      <th>c</th>\n",
       "      <td>0.487635</td>\n",
       "      <td>0.680678</td>\n",
       "    </tr>\n",
       "    <tr>\n",
       "      <th>d</th>\n",
       "      <td>0.223937</td>\n",
       "      <td>0.575205</td>\n",
       "    </tr>\n",
       "    <tr>\n",
       "      <th>e</th>\n",
       "      <td>0.138010</td>\n",
       "      <td>0.052808</td>\n",
       "    </tr>\n",
       "  </tbody>\n",
       "</table>\n",
       "</div>"
      ],
      "text/plain": [
       "          x         y\n",
       "a  0.102847  0.701507\n",
       "b  0.275573  0.672492\n",
       "c  0.487635  0.680678\n",
       "d  0.223937  0.575205\n",
       "e  0.138010  0.052808"
      ]
     },
     "execution_count": 43,
     "metadata": {},
     "output_type": "execute_result"
    }
   ],
   "source": [
    "# selecting two coluns\n",
    "df[['x','y']]"
   ]
  },
  {
   "cell_type": "code",
   "execution_count": 44,
   "metadata": {},
   "outputs": [
    {
     "data": {
      "text/plain": [
       "pandas.core.frame.DataFrame"
      ]
     },
     "execution_count": 44,
     "metadata": {},
     "output_type": "execute_result"
    }
   ],
   "source": [
    "type(df[['x','y']])"
   ]
  },
  {
   "cell_type": "code",
   "execution_count": 45,
   "metadata": {},
   "outputs": [
    {
     "data": {
      "text/html": [
       "<div>\n",
       "<style scoped>\n",
       "    .dataframe tbody tr th:only-of-type {\n",
       "        vertical-align: middle;\n",
       "    }\n",
       "\n",
       "    .dataframe tbody tr th {\n",
       "        vertical-align: top;\n",
       "    }\n",
       "\n",
       "    .dataframe thead th {\n",
       "        text-align: right;\n",
       "    }\n",
       "</style>\n",
       "<table border=\"1\" class=\"dataframe\">\n",
       "  <thead>\n",
       "    <tr style=\"text-align: right;\">\n",
       "      <th></th>\n",
       "      <th>w</th>\n",
       "      <th>x</th>\n",
       "      <th>y</th>\n",
       "      <th>Z</th>\n",
       "      <th>new</th>\n",
       "    </tr>\n",
       "  </thead>\n",
       "  <tbody>\n",
       "    <tr>\n",
       "      <th>a</th>\n",
       "      <td>0.097146</td>\n",
       "      <td>0.102847</td>\n",
       "      <td>0.701507</td>\n",
       "      <td>0.890480</td>\n",
       "      <td>0.199994</td>\n",
       "    </tr>\n",
       "    <tr>\n",
       "      <th>b</th>\n",
       "      <td>0.159560</td>\n",
       "      <td>0.275573</td>\n",
       "      <td>0.672492</td>\n",
       "      <td>0.164303</td>\n",
       "      <td>0.435133</td>\n",
       "    </tr>\n",
       "    <tr>\n",
       "      <th>c</th>\n",
       "      <td>0.701371</td>\n",
       "      <td>0.487635</td>\n",
       "      <td>0.680678</td>\n",
       "      <td>0.521548</td>\n",
       "      <td>1.189006</td>\n",
       "    </tr>\n",
       "    <tr>\n",
       "      <th>d</th>\n",
       "      <td>0.043397</td>\n",
       "      <td>0.223937</td>\n",
       "      <td>0.575205</td>\n",
       "      <td>0.120434</td>\n",
       "      <td>0.267333</td>\n",
       "    </tr>\n",
       "    <tr>\n",
       "      <th>e</th>\n",
       "      <td>0.500117</td>\n",
       "      <td>0.138010</td>\n",
       "      <td>0.052808</td>\n",
       "      <td>0.178277</td>\n",
       "      <td>0.638126</td>\n",
       "    </tr>\n",
       "  </tbody>\n",
       "</table>\n",
       "</div>"
      ],
      "text/plain": [
       "          w         x         y         Z       new\n",
       "a  0.097146  0.102847  0.701507  0.890480  0.199994\n",
       "b  0.159560  0.275573  0.672492  0.164303  0.435133\n",
       "c  0.701371  0.487635  0.680678  0.521548  1.189006\n",
       "d  0.043397  0.223937  0.575205  0.120434  0.267333\n",
       "e  0.500117  0.138010  0.052808  0.178277  0.638126"
      ]
     },
     "execution_count": 45,
     "metadata": {},
     "output_type": "execute_result"
    }
   ],
   "source": [
    "# adding new colun in above DataFrame\n",
    "df['new'] = df['w'] + df['x']\n",
    "df"
   ]
  },
  {
   "cell_type": "code",
   "execution_count": 48,
   "metadata": {},
   "outputs": [
    {
     "data": {
      "text/html": [
       "<div>\n",
       "<style scoped>\n",
       "    .dataframe tbody tr th:only-of-type {\n",
       "        vertical-align: middle;\n",
       "    }\n",
       "\n",
       "    .dataframe tbody tr th {\n",
       "        vertical-align: top;\n",
       "    }\n",
       "\n",
       "    .dataframe thead th {\n",
       "        text-align: right;\n",
       "    }\n",
       "</style>\n",
       "<table border=\"1\" class=\"dataframe\">\n",
       "  <thead>\n",
       "    <tr style=\"text-align: right;\">\n",
       "      <th></th>\n",
       "      <th>w</th>\n",
       "      <th>x</th>\n",
       "      <th>y</th>\n",
       "      <th>Z</th>\n",
       "    </tr>\n",
       "  </thead>\n",
       "  <tbody>\n",
       "    <tr>\n",
       "      <th>a</th>\n",
       "      <td>0.097146</td>\n",
       "      <td>0.102847</td>\n",
       "      <td>0.701507</td>\n",
       "      <td>0.890480</td>\n",
       "    </tr>\n",
       "    <tr>\n",
       "      <th>b</th>\n",
       "      <td>0.159560</td>\n",
       "      <td>0.275573</td>\n",
       "      <td>0.672492</td>\n",
       "      <td>0.164303</td>\n",
       "    </tr>\n",
       "    <tr>\n",
       "      <th>c</th>\n",
       "      <td>0.701371</td>\n",
       "      <td>0.487635</td>\n",
       "      <td>0.680678</td>\n",
       "      <td>0.521548</td>\n",
       "    </tr>\n",
       "    <tr>\n",
       "      <th>d</th>\n",
       "      <td>0.043397</td>\n",
       "      <td>0.223937</td>\n",
       "      <td>0.575205</td>\n",
       "      <td>0.120434</td>\n",
       "    </tr>\n",
       "    <tr>\n",
       "      <th>e</th>\n",
       "      <td>0.500117</td>\n",
       "      <td>0.138010</td>\n",
       "      <td>0.052808</td>\n",
       "      <td>0.178277</td>\n",
       "    </tr>\n",
       "  </tbody>\n",
       "</table>\n",
       "</div>"
      ],
      "text/plain": [
       "          w         x         y         Z\n",
       "a  0.097146  0.102847  0.701507  0.890480\n",
       "b  0.159560  0.275573  0.672492  0.164303\n",
       "c  0.701371  0.487635  0.680678  0.521548\n",
       "d  0.043397  0.223937  0.575205  0.120434\n",
       "e  0.500117  0.138010  0.052808  0.178277"
      ]
     },
     "execution_count": 48,
     "metadata": {},
     "output_type": "execute_result"
    }
   ],
   "source": [
    "# removing colun and rows in dataFrame\n",
    "df.drop(labels='new',axis=1)# axis=1 for column and axis=0 for Row\n"
   ]
  },
  {
   "cell_type": "code",
   "execution_count": 49,
   "metadata": {},
   "outputs": [
    {
     "data": {
      "text/html": [
       "<div>\n",
       "<style scoped>\n",
       "    .dataframe tbody tr th:only-of-type {\n",
       "        vertical-align: middle;\n",
       "    }\n",
       "\n",
       "    .dataframe tbody tr th {\n",
       "        vertical-align: top;\n",
       "    }\n",
       "\n",
       "    .dataframe thead th {\n",
       "        text-align: right;\n",
       "    }\n",
       "</style>\n",
       "<table border=\"1\" class=\"dataframe\">\n",
       "  <thead>\n",
       "    <tr style=\"text-align: right;\">\n",
       "      <th></th>\n",
       "      <th>w</th>\n",
       "      <th>x</th>\n",
       "      <th>y</th>\n",
       "      <th>Z</th>\n",
       "      <th>new</th>\n",
       "    </tr>\n",
       "  </thead>\n",
       "  <tbody>\n",
       "    <tr>\n",
       "      <th>a</th>\n",
       "      <td>0.097146</td>\n",
       "      <td>0.102847</td>\n",
       "      <td>0.701507</td>\n",
       "      <td>0.890480</td>\n",
       "      <td>0.199994</td>\n",
       "    </tr>\n",
       "    <tr>\n",
       "      <th>b</th>\n",
       "      <td>0.159560</td>\n",
       "      <td>0.275573</td>\n",
       "      <td>0.672492</td>\n",
       "      <td>0.164303</td>\n",
       "      <td>0.435133</td>\n",
       "    </tr>\n",
       "    <tr>\n",
       "      <th>c</th>\n",
       "      <td>0.701371</td>\n",
       "      <td>0.487635</td>\n",
       "      <td>0.680678</td>\n",
       "      <td>0.521548</td>\n",
       "      <td>1.189006</td>\n",
       "    </tr>\n",
       "    <tr>\n",
       "      <th>d</th>\n",
       "      <td>0.043397</td>\n",
       "      <td>0.223937</td>\n",
       "      <td>0.575205</td>\n",
       "      <td>0.120434</td>\n",
       "      <td>0.267333</td>\n",
       "    </tr>\n",
       "    <tr>\n",
       "      <th>e</th>\n",
       "      <td>0.500117</td>\n",
       "      <td>0.138010</td>\n",
       "      <td>0.052808</td>\n",
       "      <td>0.178277</td>\n",
       "      <td>0.638126</td>\n",
       "    </tr>\n",
       "  </tbody>\n",
       "</table>\n",
       "</div>"
      ],
      "text/plain": [
       "          w         x         y         Z       new\n",
       "a  0.097146  0.102847  0.701507  0.890480  0.199994\n",
       "b  0.159560  0.275573  0.672492  0.164303  0.435133\n",
       "c  0.701371  0.487635  0.680678  0.521548  1.189006\n",
       "d  0.043397  0.223937  0.575205  0.120434  0.267333\n",
       "e  0.500117  0.138010  0.052808  0.178277  0.638126"
      ]
     },
     "execution_count": 49,
     "metadata": {},
     "output_type": "execute_result"
    }
   ],
   "source": [
    "df\n",
    "# since the orginal df data is not removed to removed that new column data we have to add inplace=True paramaeter "
   ]
  },
  {
   "cell_type": "code",
   "execution_count": 50,
   "metadata": {},
   "outputs": [],
   "source": [
    "df.drop(labels='new',axis=1,inplace=True)"
   ]
  },
  {
   "cell_type": "code",
   "execution_count": 51,
   "metadata": {},
   "outputs": [
    {
     "data": {
      "text/html": [
       "<div>\n",
       "<style scoped>\n",
       "    .dataframe tbody tr th:only-of-type {\n",
       "        vertical-align: middle;\n",
       "    }\n",
       "\n",
       "    .dataframe tbody tr th {\n",
       "        vertical-align: top;\n",
       "    }\n",
       "\n",
       "    .dataframe thead th {\n",
       "        text-align: right;\n",
       "    }\n",
       "</style>\n",
       "<table border=\"1\" class=\"dataframe\">\n",
       "  <thead>\n",
       "    <tr style=\"text-align: right;\">\n",
       "      <th></th>\n",
       "      <th>w</th>\n",
       "      <th>x</th>\n",
       "      <th>y</th>\n",
       "      <th>Z</th>\n",
       "    </tr>\n",
       "  </thead>\n",
       "  <tbody>\n",
       "    <tr>\n",
       "      <th>a</th>\n",
       "      <td>0.097146</td>\n",
       "      <td>0.102847</td>\n",
       "      <td>0.701507</td>\n",
       "      <td>0.890480</td>\n",
       "    </tr>\n",
       "    <tr>\n",
       "      <th>b</th>\n",
       "      <td>0.159560</td>\n",
       "      <td>0.275573</td>\n",
       "      <td>0.672492</td>\n",
       "      <td>0.164303</td>\n",
       "    </tr>\n",
       "    <tr>\n",
       "      <th>c</th>\n",
       "      <td>0.701371</td>\n",
       "      <td>0.487635</td>\n",
       "      <td>0.680678</td>\n",
       "      <td>0.521548</td>\n",
       "    </tr>\n",
       "    <tr>\n",
       "      <th>d</th>\n",
       "      <td>0.043397</td>\n",
       "      <td>0.223937</td>\n",
       "      <td>0.575205</td>\n",
       "      <td>0.120434</td>\n",
       "    </tr>\n",
       "    <tr>\n",
       "      <th>e</th>\n",
       "      <td>0.500117</td>\n",
       "      <td>0.138010</td>\n",
       "      <td>0.052808</td>\n",
       "      <td>0.178277</td>\n",
       "    </tr>\n",
       "  </tbody>\n",
       "</table>\n",
       "</div>"
      ],
      "text/plain": [
       "          w         x         y         Z\n",
       "a  0.097146  0.102847  0.701507  0.890480\n",
       "b  0.159560  0.275573  0.672492  0.164303\n",
       "c  0.701371  0.487635  0.680678  0.521548\n",
       "d  0.043397  0.223937  0.575205  0.120434\n",
       "e  0.500117  0.138010  0.052808  0.178277"
      ]
     },
     "execution_count": 51,
     "metadata": {},
     "output_type": "execute_result"
    }
   ],
   "source": [
    "df"
   ]
  },
  {
   "cell_type": "code",
   "execution_count": 54,
   "metadata": {},
   "outputs": [
    {
     "data": {
      "text/html": [
       "<div>\n",
       "<style scoped>\n",
       "    .dataframe tbody tr th:only-of-type {\n",
       "        vertical-align: middle;\n",
       "    }\n",
       "\n",
       "    .dataframe tbody tr th {\n",
       "        vertical-align: top;\n",
       "    }\n",
       "\n",
       "    .dataframe thead th {\n",
       "        text-align: right;\n",
       "    }\n",
       "</style>\n",
       "<table border=\"1\" class=\"dataframe\">\n",
       "  <thead>\n",
       "    <tr style=\"text-align: right;\">\n",
       "      <th></th>\n",
       "      <th>w</th>\n",
       "      <th>x</th>\n",
       "      <th>y</th>\n",
       "      <th>Z</th>\n",
       "    </tr>\n",
       "  </thead>\n",
       "  <tbody>\n",
       "    <tr>\n",
       "      <th>a</th>\n",
       "      <td>0.097146</td>\n",
       "      <td>0.102847</td>\n",
       "      <td>0.701507</td>\n",
       "      <td>0.890480</td>\n",
       "    </tr>\n",
       "    <tr>\n",
       "      <th>c</th>\n",
       "      <td>0.701371</td>\n",
       "      <td>0.487635</td>\n",
       "      <td>0.680678</td>\n",
       "      <td>0.521548</td>\n",
       "    </tr>\n",
       "    <tr>\n",
       "      <th>d</th>\n",
       "      <td>0.043397</td>\n",
       "      <td>0.223937</td>\n",
       "      <td>0.575205</td>\n",
       "      <td>0.120434</td>\n",
       "    </tr>\n",
       "    <tr>\n",
       "      <th>e</th>\n",
       "      <td>0.500117</td>\n",
       "      <td>0.138010</td>\n",
       "      <td>0.052808</td>\n",
       "      <td>0.178277</td>\n",
       "    </tr>\n",
       "  </tbody>\n",
       "</table>\n",
       "</div>"
      ],
      "text/plain": [
       "          w         x         y         Z\n",
       "a  0.097146  0.102847  0.701507  0.890480\n",
       "c  0.701371  0.487635  0.680678  0.521548\n",
       "d  0.043397  0.223937  0.575205  0.120434\n",
       "e  0.500117  0.138010  0.052808  0.178277"
      ]
     },
     "execution_count": 54,
     "metadata": {},
     "output_type": "execute_result"
    }
   ],
   "source": [
    "# removing rows\n",
    "df.drop('b',axis=0)\n"
   ]
  },
  {
   "cell_type": "code",
   "execution_count": 55,
   "metadata": {},
   "outputs": [
    {
     "data": {
      "text/html": [
       "<div>\n",
       "<style scoped>\n",
       "    .dataframe tbody tr th:only-of-type {\n",
       "        vertical-align: middle;\n",
       "    }\n",
       "\n",
       "    .dataframe tbody tr th {\n",
       "        vertical-align: top;\n",
       "    }\n",
       "\n",
       "    .dataframe thead th {\n",
       "        text-align: right;\n",
       "    }\n",
       "</style>\n",
       "<table border=\"1\" class=\"dataframe\">\n",
       "  <thead>\n",
       "    <tr style=\"text-align: right;\">\n",
       "      <th></th>\n",
       "      <th>w</th>\n",
       "      <th>x</th>\n",
       "      <th>y</th>\n",
       "      <th>Z</th>\n",
       "    </tr>\n",
       "  </thead>\n",
       "  <tbody>\n",
       "    <tr>\n",
       "      <th>a</th>\n",
       "      <td>0.097146</td>\n",
       "      <td>0.102847</td>\n",
       "      <td>0.701507</td>\n",
       "      <td>0.890480</td>\n",
       "    </tr>\n",
       "    <tr>\n",
       "      <th>b</th>\n",
       "      <td>0.159560</td>\n",
       "      <td>0.275573</td>\n",
       "      <td>0.672492</td>\n",
       "      <td>0.164303</td>\n",
       "    </tr>\n",
       "    <tr>\n",
       "      <th>c</th>\n",
       "      <td>0.701371</td>\n",
       "      <td>0.487635</td>\n",
       "      <td>0.680678</td>\n",
       "      <td>0.521548</td>\n",
       "    </tr>\n",
       "    <tr>\n",
       "      <th>d</th>\n",
       "      <td>0.043397</td>\n",
       "      <td>0.223937</td>\n",
       "      <td>0.575205</td>\n",
       "      <td>0.120434</td>\n",
       "    </tr>\n",
       "    <tr>\n",
       "      <th>e</th>\n",
       "      <td>0.500117</td>\n",
       "      <td>0.138010</td>\n",
       "      <td>0.052808</td>\n",
       "      <td>0.178277</td>\n",
       "    </tr>\n",
       "  </tbody>\n",
       "</table>\n",
       "</div>"
      ],
      "text/plain": [
       "          w         x         y         Z\n",
       "a  0.097146  0.102847  0.701507  0.890480\n",
       "b  0.159560  0.275573  0.672492  0.164303\n",
       "c  0.701371  0.487635  0.680678  0.521548\n",
       "d  0.043397  0.223937  0.575205  0.120434\n",
       "e  0.500117  0.138010  0.052808  0.178277"
      ]
     },
     "execution_count": 55,
     "metadata": {},
     "output_type": "execute_result"
    }
   ],
   "source": [
    "df"
   ]
  },
  {
   "cell_type": "code",
   "execution_count": 56,
   "metadata": {},
   "outputs": [
    {
     "data": {
      "text/plain": [
       "w    0.701371\n",
       "x    0.487635\n",
       "y    0.680678\n",
       "Z    0.521548\n",
       "Name: c, dtype: float64"
      ]
     },
     "execution_count": 56,
     "metadata": {},
     "output_type": "execute_result"
    }
   ],
   "source": [
    "# selectinf rows we use loc\n",
    "df.loc['c']"
   ]
  },
  {
   "cell_type": "code",
   "execution_count": 58,
   "metadata": {},
   "outputs": [
    {
     "data": {
      "text/plain": [
       "pandas.core.series.Series"
      ]
     },
     "execution_count": 58,
     "metadata": {},
     "output_type": "execute_result"
    }
   ],
   "source": [
    "type(df.loc['c'])"
   ]
  },
  {
   "cell_type": "code",
   "execution_count": 59,
   "metadata": {},
   "outputs": [
    {
     "data": {
      "text/plain": [
       "0.4876352222057281"
      ]
     },
     "execution_count": 59,
     "metadata": {},
     "output_type": "execute_result"
    }
   ],
   "source": [
    "# selecting subset of rows and colum\n",
    "df.loc['c','x'] #df.loc['rows','column']"
   ]
  },
  {
   "cell_type": "code",
   "execution_count": 60,
   "metadata": {},
   "outputs": [
    {
     "data": {
      "text/plain": [
       "0.05280840108926621"
      ]
     },
     "execution_count": 60,
     "metadata": {},
     "output_type": "execute_result"
    }
   ],
   "source": [
    "df.loc ['e','y']"
   ]
  },
  {
   "cell_type": "code",
   "execution_count": 64,
   "metadata": {},
   "outputs": [
    {
     "data": {
      "text/html": [
       "<div>\n",
       "<style scoped>\n",
       "    .dataframe tbody tr th:only-of-type {\n",
       "        vertical-align: middle;\n",
       "    }\n",
       "\n",
       "    .dataframe tbody tr th {\n",
       "        vertical-align: top;\n",
       "    }\n",
       "\n",
       "    .dataframe thead th {\n",
       "        text-align: right;\n",
       "    }\n",
       "</style>\n",
       "<table border=\"1\" class=\"dataframe\">\n",
       "  <thead>\n",
       "    <tr style=\"text-align: right;\">\n",
       "      <th></th>\n",
       "      <th>w</th>\n",
       "      <th>x</th>\n",
       "      <th>y</th>\n",
       "      <th>Z</th>\n",
       "    </tr>\n",
       "  </thead>\n",
       "  <tbody>\n",
       "    <tr>\n",
       "      <th>a</th>\n",
       "      <td>0.097146</td>\n",
       "      <td>0.102847</td>\n",
       "      <td>0.701507</td>\n",
       "      <td>0.890480</td>\n",
       "    </tr>\n",
       "    <tr>\n",
       "      <th>b</th>\n",
       "      <td>0.159560</td>\n",
       "      <td>0.275573</td>\n",
       "      <td>0.672492</td>\n",
       "      <td>0.164303</td>\n",
       "    </tr>\n",
       "    <tr>\n",
       "      <th>c</th>\n",
       "      <td>0.701371</td>\n",
       "      <td>0.487635</td>\n",
       "      <td>0.680678</td>\n",
       "      <td>0.521548</td>\n",
       "    </tr>\n",
       "    <tr>\n",
       "      <th>d</th>\n",
       "      <td>0.043397</td>\n",
       "      <td>0.223937</td>\n",
       "      <td>0.575205</td>\n",
       "      <td>0.120434</td>\n",
       "    </tr>\n",
       "    <tr>\n",
       "      <th>e</th>\n",
       "      <td>0.500117</td>\n",
       "      <td>0.138010</td>\n",
       "      <td>0.052808</td>\n",
       "      <td>0.178277</td>\n",
       "    </tr>\n",
       "  </tbody>\n",
       "</table>\n",
       "</div>"
      ],
      "text/plain": [
       "          w         x         y         Z\n",
       "a  0.097146  0.102847  0.701507  0.890480\n",
       "b  0.159560  0.275573  0.672492  0.164303\n",
       "c  0.701371  0.487635  0.680678  0.521548\n",
       "d  0.043397  0.223937  0.575205  0.120434\n",
       "e  0.500117  0.138010  0.052808  0.178277"
      ]
     },
     "execution_count": 64,
     "metadata": {},
     "output_type": "execute_result"
    }
   ],
   "source": [
    "df"
   ]
  },
  {
   "cell_type": "code",
   "execution_count": 65,
   "metadata": {},
   "outputs": [
    {
     "data": {
      "text/html": [
       "<div>\n",
       "<style scoped>\n",
       "    .dataframe tbody tr th:only-of-type {\n",
       "        vertical-align: middle;\n",
       "    }\n",
       "\n",
       "    .dataframe tbody tr th {\n",
       "        vertical-align: top;\n",
       "    }\n",
       "\n",
       "    .dataframe thead th {\n",
       "        text-align: right;\n",
       "    }\n",
       "</style>\n",
       "<table border=\"1\" class=\"dataframe\">\n",
       "  <thead>\n",
       "    <tr style=\"text-align: right;\">\n",
       "      <th></th>\n",
       "      <th>y</th>\n",
       "      <th>Z</th>\n",
       "    </tr>\n",
       "  </thead>\n",
       "  <tbody>\n",
       "    <tr>\n",
       "      <th>d</th>\n",
       "      <td>0.575205</td>\n",
       "      <td>0.120434</td>\n",
       "    </tr>\n",
       "    <tr>\n",
       "      <th>e</th>\n",
       "      <td>0.052808</td>\n",
       "      <td>0.178277</td>\n",
       "    </tr>\n",
       "  </tbody>\n",
       "</table>\n",
       "</div>"
      ],
      "text/plain": [
       "          y         Z\n",
       "d  0.575205  0.120434\n",
       "e  0.052808  0.178277"
      ]
     },
     "execution_count": 65,
     "metadata": {},
     "output_type": "execute_result"
    }
   ],
   "source": [
    "df.loc[['d','e'],['y','Z']] # 'd' and 'e' specify rows and y and Z are colun we wan a select four values as list"
   ]
  },
  {
   "cell_type": "code",
   "execution_count": null,
   "metadata": {},
   "outputs": [],
   "source": []
  }
 ],
 "metadata": {
  "kernelspec": {
   "display_name": "Python 3",
   "language": "python",
   "name": "python3"
  },
  "language_info": {
   "codemirror_mode": {
    "name": "ipython",
    "version": 3
   },
   "file_extension": ".py",
   "mimetype": "text/x-python",
   "name": "python",
   "nbconvert_exporter": "python",
   "pygments_lexer": "ipython3",
   "version": "3.7.4"
  }
 },
 "nbformat": 4,
 "nbformat_minor": 2
}
