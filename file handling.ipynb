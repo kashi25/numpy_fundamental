{
 "cells": [
  {
   "cell_type": "markdown",
   "metadata": {},
   "source": [
    "# file is a named location on a disk to store related information it is used to store the data permanently in a non volatile memory variables will go off"
   ]
  },
  {
   "cell_type": "code",
   "execution_count": 1,
   "metadata": {},
   "outputs": [],
   "source": [
    "# open -> R or W -> Close"
   ]
  },
  {
   "cell_type": "markdown",
   "metadata": {},
   "source": [
    "# Modes: r - read, w- write, a-append, r+ - read and write"
   ]
  },
  {
   "cell_type": "code",
   "execution_count": 8,
   "metadata": {},
   "outputs": [],
   "source": [
    "# file open\n",
    "file=open('E:\\\\seven sem\\\\java\\\\textfile_kashi.txt',\"w\")  #open(path, mode)\n",
    "file.close()"
   ]
  },
  {
   "cell_type": "code",
   "execution_count": 11,
   "metadata": {},
   "outputs": [
    {
     "data": {
      "text/plain": [
       "<_io.TextIOWrapper name='E:\\\\seven sem\\\\java\\\\textfile_kashi.txt' mode='r' encoding='cp1252'>"
      ]
     },
     "execution_count": 11,
     "metadata": {},
     "output_type": "execute_result"
    }
   ],
   "source": [
    "open('E:\\\\seven sem\\\\java\\\\textfile_kashi.txt',\"r\")"
   ]
  },
  {
   "cell_type": "code",
   "execution_count": 17,
   "metadata": {},
   "outputs": [],
   "source": [
    "file=open(r'E:\\\\seven sem\\\\java\\\\textfile_kashi.txt',\"r\")\n",
    "file.close()"
   ]
  },
  {
   "cell_type": "code",
   "execution_count": 21,
   "metadata": {},
   "outputs": [
    {
     "name": "stdout",
     "output_type": "stream",
     "text": [
      "file name: E:\\seven sem\\java\\textfile_kashi1.txt\n",
      "file closed: False\n",
      "file Mode: w\n",
      "file closed: True\n"
     ]
    }
   ],
   "source": [
    "fileobj = open('E:\\\\seven sem\\\\java\\\\textfile_kashi1.txt',\"w\")\n",
    "print(\"file name:\", fileobj.name)\n",
    "print(\"file closed:\", fileobj.closed)\n",
    "print(\"file Mode:\",fileobj.mode)\n",
    "\n",
    "fileobj.close()\n",
    "print(\"file closed:\", fileobj.closed)"
   ]
  },
  {
   "cell_type": "code",
   "execution_count": 23,
   "metadata": {},
   "outputs": [
    {
     "name": "stdout",
     "output_type": "stream",
     "text": [
      "this is kashi bhattarai python developer\n",
      "he is good in python developemt\n"
     ]
    }
   ],
   "source": [
    "# open the file\n",
    "open ('E:\\\\seven sem\\\\java\\\\textfile_kashi1.txt','r')\n",
    "\n",
    "# reading file and assigning file object\n",
    "fo = open('E:\\\\seven sem\\\\java\\\\textfile_kashi1.txt','r')\n",
    "\n",
    "readata =fo.read()\n",
    "print(readata)\n",
    "fo.close()"
   ]
  },
  {
   "cell_type": "code",
   "execution_count": 24,
   "metadata": {},
   "outputs": [
    {
     "name": "stdout",
     "output_type": "stream",
     "text": [
      "<class '_io.TextIOWrapper'>\n"
     ]
    }
   ],
   "source": [
    "print(type(fo))"
   ]
  },
  {
   "cell_type": "code",
   "execution_count": 25,
   "metadata": {},
   "outputs": [
    {
     "name": "stdout",
     "output_type": "stream",
     "text": [
      "thi\n"
     ]
    }
   ],
   "source": [
    "# reading file and assigning file object\n",
    "\n",
    "go = open('E:\\\\seven sem\\\\java\\\\textfile_kashi1.txt','r')\n",
    "readata = go.read(3)\n",
    "print(readata)\n",
    "go.close()"
   ]
  },
  {
   "cell_type": "code",
   "execution_count": 28,
   "metadata": {},
   "outputs": [
    {
     "name": "stdout",
     "output_type": "stream",
     "text": [
      "['this is kashi bhattarai python developer\\n', 'he is good in python developemt']\n"
     ]
    }
   ],
   "source": [
    "# reading file and assigning file object\n",
    "\n",
    "go = open('E:\\\\seven sem\\\\java\\\\textfile_kashi1.txt','r')\n",
    "# reading multiple lines see the output  (in the form of list)\n",
    "linedata = go.readlines()\n",
    "print(linedata)\n",
    "go.close()"
   ]
  },
  {
   "cell_type": "code",
   "execution_count": 4,
   "metadata": {},
   "outputs": [
    {
     "name": "stdout",
     "output_type": "stream",
     "text": [
      "this is kashi bhattarai python developer\n",
      "\n",
      "he is good in python developemt\n"
     ]
    }
   ],
   "source": [
    "# reading file ans assigning files object\n",
    "\n",
    "go = open('E:\\\\seven sem\\\\java\\\\textfile_kashi1.txt','r')\n",
    "# reading multiple lines see the output  (in the form of list)\n",
    "linedata = go.readlines()\n",
    "\n",
    "\n",
    "for line in linedata:\n",
    "    print(line)\n",
    "go.close()"
   ]
  },
  {
   "cell_type": "code",
   "execution_count": 9,
   "metadata": {},
   "outputs": [],
   "source": [
    "# writing to file\n",
    "# reading the file and assigning file object\n",
    "\n",
    "mo = open('E:\\\\seven sem\\\\java\\\\textfile_kashi.txt','w')\n",
    "\n",
    "mo.write(\"this is written file from python \")\n",
    "mo.close()"
   ]
  },
  {
   "cell_type": "code",
   "execution_count": 10,
   "metadata": {},
   "outputs": [],
   "source": [
    "# if you override the file every thing the the file will be vanished instead of the if you use \"a\" i.e append "
   ]
  },
  {
   "cell_type": "code",
   "execution_count": 11,
   "metadata": {},
   "outputs": [],
   "source": [
    "mo = open('E:\\\\seven sem\\\\java\\\\textfile_kashi.txt','a')\n",
    "mo.write(\"this is append data from another command of python\")\n",
    "mo.close()"
   ]
  },
  {
   "cell_type": "code",
   "execution_count": 12,
   "metadata": {},
   "outputs": [
    {
     "name": "stdout",
     "output_type": "stream",
     "text": [
      "enter your datathis is normal file for texting purpose\n"
     ]
    }
   ],
   "source": [
    "ef = open('E:\\\\seven sem\\\\java\\\\normal.txt','w')\n",
    "\n",
    "msg =input(\"enter your data\")\n",
    "ef.write(msg)\n",
    "\n",
    "ef.close()"
   ]
  },
  {
   "cell_type": "code",
   "execution_count": 13,
   "metadata": {},
   "outputs": [
    {
     "name": "stdout",
     "output_type": "stream",
     "text": [
      "enter your msg:\n",
      "this is second\n"
     ]
    }
   ],
   "source": [
    "fo = open('E:\\\\seven sem\\\\java\\\\textfile_kk.txt','w')\n",
    "msg = input(\"enter your msg:\\n\")\n",
    "\n",
    "fo.write(msg)\n",
    "fo.close()"
   ]
  },
  {
   "cell_type": "code",
   "execution_count": 16,
   "metadata": {},
   "outputs": [
    {
     "name": "stdout",
     "output_type": "stream",
     "text": [
      "14\n",
      "this is second\n"
     ]
    }
   ],
   "source": [
    "fo = open('E:\\\\seven sem\\\\java\\\\textfile_kk.txt','r')\n",
    "msg1 = fo.read(20) #cursor move 20 moves\n",
    "currpost = fo.tell()\n",
    "\n",
    "print(currpost)\n",
    "\n",
    "fo.seek(0,0) #meaning startin pas=0 ans move 0 steps\n",
    "\n",
    "msg = fo.read(15)\n",
    "print(msg)"
   ]
  },
  {
   "cell_type": "code",
   "execution_count": null,
   "metadata": {},
   "outputs": [],
   "source": []
  }
 ],
 "metadata": {
  "kernelspec": {
   "display_name": "Python 3",
   "language": "python",
   "name": "python3"
  },
  "language_info": {
   "codemirror_mode": {
    "name": "ipython",
    "version": 3
   },
   "file_extension": ".py",
   "mimetype": "text/x-python",
   "name": "python",
   "nbconvert_exporter": "python",
   "pygments_lexer": "ipython3",
   "version": "3.7.4"
  }
 },
 "nbformat": 4,
 "nbformat_minor": 2
}
