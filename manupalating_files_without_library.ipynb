{
 "cells": [
  {
   "cell_type": "code",
   "execution_count": 11,
   "metadata": {},
   "outputs": [
    {
     "name": "stdout",
     "output_type": "stream",
     "text": [
      "['SN', 'Commodity', 'Date', 'Unit', 'Minimum', 'Maximum', 'Average']\n",
      "['0', 'dhaneya', '6/16/2013', 'Kg', '35', '40', '37.5']\n",
      "['1', 'gajar', '6/16/2013', 'Kg', '26', '32', '29']\n",
      "['2', 'Potato Red', '6/16/2013', 'Kg', '20', '21', '20.5']\n",
      "['3', 'Potato White', '6/16/2013', 'Kg', '15', '16', '15.5']\n",
      "['4', 'pyaj', '6/16/2013', 'Kg', '28', '30', '29']\n",
      "['5', 'Carrot(Local)', '6/16/2013', 'Kg', '30', '35', '32.5']\n",
      "['6', 'Cabbage(Local)', '6/16/2013', 'Kg', '6', '10', '8']\n",
      "['7', 'Cauli Local', '6/16/2013', 'Kg', '30', '35', '32.5']\n",
      "['8', 'Raddish Red', '6/16/2013', 'Kg', '35', '40', '37.5']\n",
      "['9', 'Raddish White(Local)', '6/16/2013', 'Kg', '25', '30', '27.5']\n",
      "['10', 'Brinjal Long', '6/16/2013', 'Kg', '16', '18', '17']\n",
      "['11', 'Brinjal Round', '6/16/2013', 'Kg', '20', '22', '21']\n"
     ]
    }
   ],
   "source": [
    "with open('tarkari1.csv', 'r') as file:\n",
    "    data = []\n",
    "    for line in file:\n",
    "        values = line.strip().split(',')\n",
    "        data.append(values)\n",
    "        print(values)"
   ]
  },
  {
   "cell_type": "code",
   "execution_count": 8,
   "metadata": {},
   "outputs": [
    {
     "name": "stdout",
     "output_type": "stream",
     "text": [
      "['SN', 'Commodity', 'Date', 'Unit', 'Minimum', 'Maximum', 'Average']\n",
      "['0', 'dhaneya', '6/16/2013', 'Kg', '35', '40', '37.5']\n",
      "['1', 'gajar', '6/16/2013', 'Kg', '26', '32', '29']\n",
      "['2', 'Potato Red', '6/16/2013', 'Kg', '20', '21', '20.5']\n",
      "['3', 'Potato White', '6/16/2013', 'Kg', '15', '16', '15.5']\n",
      "['4', 'pyaj', '6/16/2013', 'Kg', '28', '30', '29']\n",
      "['5', 'Carrot(Local)', '6/16/2013', 'Kg', '30', '35', '32.5']\n",
      "['6', 'Cabbage(Local)', '6/16/2013', 'Kg', '6', '10', '8']\n",
      "['7', 'Cauli Local', '6/16/2013', 'Kg', '30', '35', '32.5']\n",
      "['8', 'Raddish Red', '6/16/2013', 'Kg', '35', '40', '37.5']\n",
      "['9', 'Raddish White(Local)', '6/16/2013', 'Kg', '25', '30', '27.5']\n",
      "['10', 'Brinjal Long', '6/16/2013', 'Kg', '16', '18', '17']\n"
     ]
    }
   ],
   "source": [
    "# Open the CSV file for reading\n",
    "with open('tarkari1.csv', 'r') as file:\n",
    "    # Initialize an empty list to store the data\n",
    "    data = []\n",
    "    row_count = 0\n",
    "    \n",
    "    # Iterate through each line in the file\n",
    "    for line in file:\n",
    "        # Split each line into a list of values using a comma as the delimiter\n",
    "        values = line.strip().split(',')\n",
    "        \n",
    "        # Append the list of values to the data list\n",
    "        data.append(values)\n",
    "        \n",
    "        print(values)\n",
    "        \n",
    "        # Increment the row count \n",
    "        row_count += 1\n",
    "        \n",
    "        if row_count >= 12:\n",
    "            break\n",
    "\n",
    "# At this point, the 'data' list contains the CSV data as a list of lists\n",
    "# You can access and manipulate the data as needed\n"
   ]
  },
  {
   "cell_type": "code",
   "execution_count": 6,
   "metadata": {},
   "outputs": [
    {
     "data": {
      "text/plain": [
       "['Brinjal Round', '6/16/2013', 'Kg', '20', '22', '21']"
      ]
     },
     "execution_count": 6,
     "metadata": {},
     "output_type": "execute_result"
    }
   ],
   "source": [
    "values[1:12]"
   ]
  },
  {
   "cell_type": "code",
   "execution_count": null,
   "metadata": {},
   "outputs": [],
   "source": []
  }
 ],
 "metadata": {
  "kernelspec": {
   "display_name": "Python 3",
   "language": "python",
   "name": "python3"
  },
  "language_info": {
   "codemirror_mode": {
    "name": "ipython",
    "version": 3
   },
   "file_extension": ".py",
   "mimetype": "text/x-python",
   "name": "python",
   "nbconvert_exporter": "python",
   "pygments_lexer": "ipython3",
   "version": "3.7.4"
  },
  "orig_nbformat": 4
 },
 "nbformat": 4,
 "nbformat_minor": 2
}
